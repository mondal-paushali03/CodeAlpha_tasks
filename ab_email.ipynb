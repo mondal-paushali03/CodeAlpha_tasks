{
 "cells": [
  {
   "cell_type": "markdown",
   "metadata": {},
   "source": [
    "# A/B TESTING\n"
   ]
  },
  {
   "cell_type": "markdown",
   "metadata": {},
   "source": [
    "### EMAIL CAMPAIGNS\n",
    "Determine which of two marketing emails (Email A or Email B) results in a higher open rate."
   ]
  },
  {
   "cell_type": "markdown",
   "metadata": {},
   "source": [
    "### IMPORTING LIBRARIES"
   ]
  },
  {
   "cell_type": "code",
   "execution_count": 24,
   "metadata": {},
   "outputs": [],
   "source": [
    "import pandas as pd\n",
    "import numpy as np\n",
    "import matplotlib.pyplot as plt\n",
    "import seaborn as sns\n",
    "from scipy import stats"
   ]
  },
  {
   "cell_type": "markdown",
   "metadata": {
    "vscode": {
     "languageId": "plaintext"
    }
   },
   "source": [
    "### 1. Generating Synthetic Data\n",
    "We'll generate synthetic data where we have 1,000 users split equally between the two email versions.\n"
   ]
  },
  {
   "cell_type": "code",
   "execution_count": 25,
   "metadata": {},
   "outputs": [],
   "source": [
    "\n",
    "np.random.seed(42)\n",
    "\n",
    "num_users = 1000\n",
    "data = {\n",
    "    'user_id': range(1, num_users + 1),\n",
    "    'email_version': ['A']*500 + ['B']*500,\n",
    "    'opened': np.concatenate([\n",
    "        np.random.binomial(1, 0.30, 500),  # 30% open rate for Email A\n",
    "        np.random.binomial(1, 0.40, 500)   # 40% open rate for Email B\n",
    "    ])\n",
    "}\n",
    "\n",
    "df = pd.DataFrame(data)\n"
   ]
  },
  {
   "cell_type": "markdown",
   "metadata": {},
   "source": [
    "### 2. Visualizing Data\n",
    "We'll visualize the open rates for both email versions."
   ]
  },
  {
   "cell_type": "code",
   "execution_count": 30,
   "metadata": {},
   "outputs": [
    {
     "data": {
      "image/png": "[encoded data removed]",
      "text/plain": [
       "<Figure size 800x600 with 1 Axes>"
      ]
     },
     "metadata": {},
     "output_type": "display_data"
    }
   ],
   "source": [
    "open_rates = df.groupby('email_version')['opened'].mean().reset_index()\n",
    "open_rates.columns = ['Email Version', 'Open Rate']\n",
    "\n",
    "plt.figure(figsize=(8, 6))\n",
    "sns.barplot(x='Email Version', y='Open Rate', hue='Email Version', data=open_rates, palette='Set2', legend=False)\n",
    "plt.title('Open Rates for Different Email Versions')\n",
    "plt.ylabel('Open Rate')\n",
    "plt.xlabel('Email Version')\n",
    "plt.ylim(0, 1)\n",
    "plt.show()\n"
   ]
  },
  {
   "cell_type": "markdown",
   "metadata": {},
   "source": [
    "### 3. Performing Statistical Analysis\n",
    "We'll use a Chi-Square test to determine if the difference in open rates is statistically significant."
   ]
  },
  {
   "cell_type": "code",
   "execution_count": 27,
   "metadata": {},
   "outputs": [
    {
     "name": "stdout",
     "output_type": "stream",
     "text": [
      "opened           0    1\n",
      "email_version          \n",
      "A              346  154\n",
      "B              320  180\n",
      "Chi-Square Statistic: 2.81\n",
      "P-Value: 0.0937\n",
      "The difference is not statistically significant.\n"
     ]
    }
   ],
   "source": [
    "contingency_table = pd.crosstab(df['email_version'], df['opened'])\n",
    "print(contingency_table)\n",
    "\n",
    "\n",
    "chi2, p, _, _ = stats.chi2_contingency(contingency_table)\n",
    "print(f\"Chi-Square Statistic: {chi2:.2f}\")\n",
    "print(f\"P-Value: {p:.4f}\")\n",
    "\n",
    "\n",
    "alpha = 0.05\n",
    "if p < alpha:\n",
    "    print(\"The difference is statistically significant.\")\n",
    "else:\n",
    "    print(\"The difference is not statistically significant.\")"
   ]
  },
  {
   "cell_type": "markdown",
   "metadata": {},
   "source": [
    "- From our research both visually and statistically, We conclude that Email B has higher open rate than Email A."
   ]
  }
 ],
 "metadata": {
  "kernelspec": {
   "display_name": "Python 3",
   "language": "python",
   "name": "python3"
  },
  "language_info": {
   "codemirror_mode": {
    "name": "ipython",
    "version": 3
   },
   "file_extension": ".py",
   "mimetype": "text/x-python",
   "name": "python",
   "nbconvert_exporter": "python",
   "pygments_lexer": "ipython3",
   "version": "3.12.0"
  }
 },
 "nbformat": 4,
 "nbformat_minor": 2
}
